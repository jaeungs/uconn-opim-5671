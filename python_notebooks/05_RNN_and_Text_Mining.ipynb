{
  "nbformat": 4,
  "nbformat_minor": 0,
  "metadata": {
    "colab": {
      "provenance": []
    },
    "kernelspec": {
      "name": "python3",
      "display_name": "Python 3"
    },
    "language_info": {
      "name": "python"
    },
    "gpuClass": "standard"
  },
  "cells": [
    {
      "cell_type": "markdown",
      "source": [
        "## **#05. Recurrent Neural Networks and Text Mining**\n",
        "- Instructor: [Jaeung Sim](https://jaeungs.github.io/) (University of Connecticut)\n",
        "- Course: OPIM 5671 Data Mining and Time Series Forecasting\n",
        "- Last updated: September 23, 2025"
      ],
      "metadata": {
        "id": "GSYmE0DANNuf"
      }
    },
    {
      "cell_type": "markdown",
      "source": [
        "**Objectives**\n",
        "* Build a natural language processing (NLP) model with recurrent neural networks (RNNs) to classify texts.\n",
        "\n",
        "**References**\n",
        "* [Deep Learning Basics by Google Colab](https://colab.research.google.com/github/lexfridman/mit-deep-learning/blob/master/tutorial_deep_learning_basics/deep_learning_basics.ipynb)\n",
        "* [Text classification with an RNN by TensorFlow](https://www.tensorflow.org/text/tutorials/text_classification_rnn)\n",
        "* [Large Movie Review Dataset](https://ai.stanford.edu/~amaas/data/sentiment/)\n",
        "* [Masking and padding with Keras by TensorFlow](https://www.tensorflow.org/guide/keras/masking_and_padding)"
      ],
      "metadata": {
        "id": "zwQEy_kHNgFG"
      }
    },
    {
      "cell_type": "markdown",
      "source": [
        "#### **Text Classification of IMDb Movie Reviews with RNNs**"
      ],
      "metadata": {
        "id": "1FiDOj0TPRjx"
      }
    },
    {
      "cell_type": "markdown",
      "source": [
        "In this practice, you will train a RNN model on the [IMDb large movie review dataset](https://ai.stanford.edu/~amaas/data/sentiment/) for sentiment analysis.\n",
        "\n",
        "This dataset is constructed for binary sentiment classification and provides a set of 25,000 highly polar movie reviews for training, and 25,000 for testing. There is additional unlabeled data for use as well. Raw text and already processed bag of words formats are provided."
      ],
      "metadata": {
        "id": "0U1fBgGsQPr2"
      }
    },
    {
      "cell_type": "markdown",
      "source": [
        "##### **1. Setup**"
      ],
      "metadata": {
        "id": "86Z5l6OjQQST"
      }
    },
    {
      "cell_type": "code",
      "source": [
        "# Import libraries\n",
        "import numpy as np\n",
        "import tensorflow_datasets as tfds\n",
        "import tensorflow as tf\n",
        "\n",
        "tfds.disable_progress_bar()"
      ],
      "metadata": {
        "id": "mI1c6tDqQRo5"
      },
      "execution_count": null,
      "outputs": []
    },
    {
      "cell_type": "code",
      "source": [
        "# Create a helper function to plot graphs using `matplotlib`\n",
        "import matplotlib.pyplot as plt\n",
        "\n",
        "def plot_graphs(history, metric):\n",
        "  plt.plot(history.history[metric])\n",
        "  plt.plot(history.history['val_'+metric], '')\n",
        "  plt.xlabel(\"Epochs\")\n",
        "  plt.ylabel(metric)\n",
        "  plt.legend([metric, 'val_'+metric])"
      ],
      "metadata": {
        "id": "S-mK3S7NQzVT"
      },
      "execution_count": null,
      "outputs": []
    },
    {
      "cell_type": "markdown",
      "source": [
        "The IMDb large movie review dataset is a binary classification dataset—all the reviews have either a positive or negative sentiment. Let's download the dataset using `tfds`."
      ],
      "metadata": {
        "id": "9eIFLYcKQ-SX"
      }
    },
    {
      "cell_type": "code",
      "source": [
        "# Load the dataset\n",
        "dataset, info = tfds.load('imdb_reviews', with_info=True,\n",
        "                          as_supervised=True)\n",
        "train_dataset, test_dataset = dataset['train'], dataset['test']\n",
        "\n",
        "train_dataset.element_spec"
      ],
      "metadata": {
        "colab": {
          "base_uri": "https://localhost:8080/"
        },
        "id": "H28zh7KBRI68",
        "outputId": "920f844a-c88c-45ca-bcd5-5fbaec39ebeb"
      },
      "execution_count": null,
      "outputs": [
        {
          "output_type": "stream",
          "name": "stdout",
          "text": [
            "Downloading and preparing dataset 80.23 MiB (download: 80.23 MiB, generated: Unknown size, total: 80.23 MiB) to /root/tensorflow_datasets/imdb_reviews/plain_text/1.0.0...\n",
            "Dataset imdb_reviews downloaded and prepared to /root/tensorflow_datasets/imdb_reviews/plain_text/1.0.0. Subsequent calls will reuse this data.\n"
          ]
        },
        {
          "output_type": "execute_result",
          "data": {
            "text/plain": [
              "(TensorSpec(shape=(), dtype=tf.string, name=None),\n",
              " TensorSpec(shape=(), dtype=tf.int64, name=None))"
            ]
          },
          "metadata": {},
          "execution_count": 3
        }
      ]
    },
    {
      "cell_type": "code",
      "source": [
        "# Return a dataset of (text, label) pairs\n",
        "for example, label in train_dataset.take(3): # No. of examples\n",
        "  print('Text: ', example.numpy())\n",
        "  print('Label: ', label.numpy())"
      ],
      "metadata": {
        "colab": {
          "base_uri": "https://localhost:8080/"
        },
        "id": "PKhlZvLeRkTu",
        "outputId": "f8c4e5ce-185b-43b8-d7a5-9d79388784d2"
      },
      "execution_count": null,
      "outputs": [
        {
          "output_type": "stream",
          "name": "stdout",
          "text": [
            "Text:  b\"This was an absolutely terrible movie. Don't be lured in by Christopher Walken or Michael Ironside. Both are great actors, but this must simply be their worst role in history. Even their great acting could not redeem this movie's ridiculous storyline. This movie is an early nineties US propaganda piece. The most pathetic scenes were those when the Columbian rebels were making their cases for revolutions. Maria Conchita Alonso appeared phony, and her pseudo-love affair with Walken was nothing but a pathetic emotional plug in a movie that was devoid of any real meaning. I am disappointed that there are movies like this, ruining actor's like Christopher Walken's good name. I could barely sit through it.\"\n",
            "Label:  0\n",
            "Text:  b'I have been known to fall asleep during films, but this is usually due to a combination of things including, really tired, being warm and comfortable on the sette and having just eaten a lot. However on this occasion I fell asleep because the film was rubbish. The plot development was constant. Constantly slow and boring. Things seemed to happen, but with no explanation of what was causing them or why. I admit, I may have missed part of the film, but i watched the majority of it and everything just seemed to happen of its own accord without any real concern for anything else. I cant recommend this film at all.'\n",
            "Label:  0\n",
            "Text:  b'Mann photographs the Alberta Rocky Mountains in a superb fashion, and Jimmy Stewart and Walter Brennan give enjoyable performances as they always seem to do. <br /><br />But come on Hollywood - a Mountie telling the people of Dawson City, Yukon to elect themselves a marshal (yes a marshal!) and to enforce the law themselves, then gunfighters battling it out on the streets for control of the town? <br /><br />Nothing even remotely resembling that happened on the Canadian side of the border during the Klondike gold rush. Mr. Mann and company appear to have mistaken Dawson City for Deadwood, the Canadian North for the American Wild West.<br /><br />Canadian viewers be prepared for a Reefer Madness type of enjoyable howl with this ludicrous plot, or, to shake your head in disgust.'\n",
            "Label:  0\n"
          ]
        }
      ]
    },
    {
      "cell_type": "markdown",
      "source": [
        "Next shuffle the data for training and create batches of these `(text, label)` pairs.\n",
        "\n",
        "**FYI: Buffer Size vs. Batch Size**\n",
        "* The **buffer size** refers to the number of elements from the dataset that the data loader should prefetch in memory in order to speed up data loading. This is typically used when the dataset is too large to fit entirely in memory and needs to be loaded from disk or a remote location. A larger buffer size can lead to faster data loading, but can also consume more memory.\n",
        "* The **batch size**, on the other hand, refers to the number of samples that are processed by the model at once during each training iteration. In other words, the batch size determines how many samples are used to calculate the gradients that update the model's parameters. A larger batch size can lead to faster training, but can also require more memory and result in less accurate gradients due to increased noise."
      ],
      "metadata": {
        "id": "tQz5ZCgPR7JF"
      }
    },
    {
      "cell_type": "code",
      "source": [
        "# Set the buffer and batch sizes\n",
        "BUFFER_SIZE = 10000\n",
        "BATCH_SIZE = 64\n",
        "\n",
        "# Apply buffer and batch sizes to datasets\n",
        "train_dataset = train_dataset.shuffle(BUFFER_SIZE).batch(BATCH_SIZE).prefetch(tf.data.AUTOTUNE)\n",
        "test_dataset = test_dataset.batch(BATCH_SIZE).prefetch(tf.data.AUTOTUNE)"
      ],
      "metadata": {
        "id": "Q7JBQKyKSA20"
      },
      "execution_count": null,
      "outputs": []
    },
    {
      "cell_type": "code",
      "source": [
        "# Print some examples from the shuffled dataset\n",
        "for example, label in train_dataset.take(1):\n",
        "  print('Texts: ', example.numpy()[:3])\n",
        "  print()\n",
        "  print('Labels: ', label.numpy()[:3])"
      ],
      "metadata": {
        "colab": {
          "base_uri": "https://localhost:8080/"
        },
        "id": "WpQrwVYmS-eR",
        "outputId": "d86e8516-dd7e-49f5-e565-814fbb0561cd"
      },
      "execution_count": null,
      "outputs": [
        {
          "output_type": "stream",
          "name": "stdout",
          "text": [
            "Texts:  [b'Since this picture is classified a \"pure entertainment\" work and since there are already many comments on it, I\\'d like hereby to address something relevant to the abuse of humour. We can see that Marlon Wayans is playing the joker role in this film. Certainly as long as he has been involved in the casting job, he has always been acting as a little man-an actor can change his customary dress but can hardly change his physical appearance-and the latter one can be an advantage when necessary. However far away from what I expected, I saw an image very disguising, pretending to expose different aspects of the baby life by mistake of a forty-year- old criminal. And with a ridiculous happy ending. So what is the point? Many elements are mixed up, some principal ones are violence, sex and criminal activities, amongst which the story is badly composed and to some extent, lack common sense: where is Vanessa when the peace of her house is violated and her husband\\'s life being pursued? In addition the diamond is even bigger than the world\\'s No.1 Cullinan! But the most sickening facet is the continuous attempt to make up the little man as a superman by showing his physical weak points. And they call it humour. A diamond is precious, hard and fragile; it cannot be cut by any other material but only be conquered by the hot blood of a male goat. Hence it\\'s no more a diamond but pieces of debris.'\n",
            " b\"This was so lame that I turned the DVD off...maybe halfway through. It was so weak, I couldn't even pay full enough attention to tell you how far in I made it.Though I really wanted to believe that the depiction of the young Carlito would be somewhat different, I just couldn't buy it. I don't really blame the actors, because I think it was the script that may have fallen flat. I did find myself laughing a few times, but I don't think those lines were intended to be funny.<br /><br />It's only saving grace is that I bought it in a 2 DVD set and I would have paid the price I did for the original alone. This is one of those cases when they should have let the classic stand alone.\"\n",
            " b'Never saw the original movie in the series...I only hope it was a much better movie than this or the sequel made in the 1980\\'s as if it is not how were these two terrible sequels even justified. This movie had a really good lead in when they were advertising it to be shown on one of those old independent stations that are a thing of the past now. Anyways it looked like it would be a pretty good scary movie. It was, however, a movie that would make some Walt Disney movies look dark. Really, this movie was just a bunch of light fluff with virtually no boggy creek creature to be seen. The only real sighting is near the end when you see its shape during a very heavy rainstorm, other than that there is virtually no sign of the creature which was really disappointing as a kid. The story is basically the old evil hunters must kill anything they see and are after the boggy creek creature and kids are out to help it or just some random hairy guy in the woods that likes to pull random boats through the water. Not really worth watching I would however like to see the original, granted the maker of that would make the also bad boggy creature of the 80\\'s, but he also made a very good slasher movie in the 70\\'s \"The Town the Dreaded Sundown\".']\n",
            "\n",
            "Labels:  [0 0 0]\n"
          ]
        }
      ]
    },
    {
      "cell_type": "markdown",
      "source": [
        "##### **2. Building and Training the Model**"
      ],
      "metadata": {
        "id": "N4U4yvYWTvMM"
      }
    },
    {
      "cell_type": "markdown",
      "source": [
        "**A. Create the text encoder**\n",
        "\n",
        "The raw text loaded by `tfds` needs to be processed before it can be used in a model. The simplest way to process text for training is using the `TextVectorization` layer. This layer has many capabilities, but this practice sticks to the default behavior."
      ],
      "metadata": {
        "id": "S_0-A_UiTxll"
      }
    },
    {
      "cell_type": "markdown",
      "source": [
        "The following code creates a text encoder using the `TextVectorization` layer in TensorFlow as follows (see <https://www.tensorflow.org/api_docs/python/tf/keras/layers/TextVectorization> for details):\n",
        "\n",
        "1. The `max_tokens` parameter sets the maximum size of the vocabulary to be used by the encoder. In this case, it is set to 1000.\n",
        "\n",
        "1. The `adapt` method is called on the encoder object to build the vocabulary based on the training dataset. The `map` function is used to extract only the text data from the dataset, which is then passed to the `adapt` method. This allows the encoder to learn the vocabulary from the text data and create a mapping between words and integer indices.\n",
        "\n",
        "1. After the vocabulary has been built, the encoder can be used to transform the text data into a sequence of integer indices that can be fed into a neural network."
      ],
      "metadata": {
        "id": "30Eyq_yrUKl6"
      }
    },
    {
      "cell_type": "code",
      "source": [
        "# Create a text encoder\n",
        "VOCAB_SIZE = 1000\n",
        "encoder = tf.keras.layers.TextVectorization(\n",
        "    max_tokens=VOCAB_SIZE)\n",
        "encoder.adapt(train_dataset.map(lambda text, label: text))"
      ],
      "metadata": {
        "id": "yC4hCA32TwPz"
      },
      "execution_count": null,
      "outputs": []
    },
    {
      "cell_type": "markdown",
      "source": [
        "The `.adapt` method sets the layer's vocabulary. Here are the first 20 tokens. After the padding and unknown tokens they're sorted by frequency:"
      ],
      "metadata": {
        "id": "kJR_InlXVVGu"
      }
    },
    {
      "cell_type": "code",
      "source": [
        "vocab = np.array(encoder.get_vocabulary())\n",
        "vocab[:20]"
      ],
      "metadata": {
        "colab": {
          "base_uri": "https://localhost:8080/"
        },
        "id": "KDepwiV4VXsA",
        "outputId": "2f0e238d-7764-4df7-9d52-fee42694cc36"
      },
      "execution_count": null,
      "outputs": [
        {
          "output_type": "execute_result",
          "data": {
            "text/plain": [
              "array(['', '[UNK]', 'the', 'and', 'a', 'of', 'to', 'is', 'in', 'it', 'i',\n",
              "       'this', 'that', 'br', 'was', 'as', 'for', 'with', 'movie', 'but'],\n",
              "      dtype='<U14')"
            ]
          },
          "metadata": {},
          "execution_count": 12
        }
      ]
    },
    {
      "cell_type": "markdown",
      "source": [
        "Once the vocabulary is set, the layer can encode text into indices. The tensors of indices are 0-padded to the longest sequence in the batch (unless you set a fixed `output_sequence_length`):"
      ],
      "metadata": {
        "id": "jxb7TZRxVhKM"
      }
    },
    {
      "cell_type": "code",
      "source": [
        "encoded_example = encoder(example)[:3].numpy()\n",
        "encoded_example"
      ],
      "metadata": {
        "colab": {
          "base_uri": "https://localhost:8080/"
        },
        "id": "hypsgQ4ZWSZ3",
        "outputId": "62db89df-1a2f-47d7-f59a-8432978fbc40"
      },
      "execution_count": null,
      "outputs": [
        {
          "output_type": "execute_result",
          "data": {
            "text/plain": [
              "array([[231,  11, 433, ...,   0,   0,   0],\n",
              "       [ 11,  14,  38, ...,   0,   0,   0],\n",
              "       [110, 208,   2, ...,   0,   0,   0]])"
            ]
          },
          "metadata": {},
          "execution_count": 14
        }
      ]
    },
    {
      "cell_type": "markdown",
      "source": [
        "The `[UNK]` token serves as a placeholder for words that are not found in the model's vocabulary during either training or inference."
      ],
      "metadata": {
        "id": "rTrCADwW_Iu6"
      }
    },
    {
      "cell_type": "code",
      "source": [
        "for n in range(3):\n",
        "  print(\"Original: \", example[n].numpy())\n",
        "  print(\"Round-trip: \", \" \".join(vocab[encoded_example[n]]))\n",
        "  print()"
      ],
      "metadata": {
        "colab": {
          "base_uri": "https://localhost:8080/"
        },
        "id": "SGM18BHeWToB",
        "outputId": "e4ad141a-dfd4-40f9-82c9-ede28af29761"
      },
      "execution_count": null,
      "outputs": [
        {
          "output_type": "stream",
          "name": "stdout",
          "text": [
            "Original:  b'Since this picture is classified a \"pure entertainment\" work and since there are already many comments on it, I\\'d like hereby to address something relevant to the abuse of humour. We can see that Marlon Wayans is playing the joker role in this film. Certainly as long as he has been involved in the casting job, he has always been acting as a little man-an actor can change his customary dress but can hardly change his physical appearance-and the latter one can be an advantage when necessary. However far away from what I expected, I saw an image very disguising, pretending to expose different aspects of the baby life by mistake of a forty-year- old criminal. And with a ridiculous happy ending. So what is the point? Many elements are mixed up, some principal ones are violence, sex and criminal activities, amongst which the story is badly composed and to some extent, lack common sense: where is Vanessa when the peace of her house is violated and her husband\\'s life being pursued? In addition the diamond is even bigger than the world\\'s No.1 Cullinan! But the most sickening facet is the continuous attempt to make up the little man as a superman by showing his physical weak points. And they call it humour. A diamond is precious, hard and fragile; it cannot be cut by any other material but only be conquered by the hot blood of a male goat. Hence it\\'s no more a diamond but pieces of debris.'\n",
            "Round-trip:  since this picture is [UNK] a [UNK] entertainment work and since there are already many comments on it id like [UNK] to [UNK] something [UNK] to the [UNK] of [UNK] we can see that [UNK] [UNK] is playing the [UNK] role in this film certainly as long as he has been involved in the casting job he has always been acting as a little [UNK] actor can change his [UNK] [UNK] but can hardly change his [UNK] [UNK] the [UNK] one can be an [UNK] when [UNK] however far away from what i expected i saw an [UNK] very [UNK] [UNK] to [UNK] different [UNK] of the baby life by [UNK] of a [UNK] old [UNK] and with a ridiculous happy ending so what is the point many elements are [UNK] up some [UNK] ones are violence sex and [UNK] [UNK] [UNK] which the story is badly [UNK] and to some [UNK] lack [UNK] sense where is [UNK] when the [UNK] of her house is [UNK] and her [UNK] life being [UNK] in [UNK] the [UNK] is even [UNK] than the [UNK] [UNK] [UNK] but the most [UNK] [UNK] is the [UNK] attempt to make up the little man as a [UNK] by showing his [UNK] weak points and they call it [UNK] a [UNK] is [UNK] hard and [UNK] it cannot be cut by any other material but only be [UNK] by the hot blood of a male [UNK] [UNK] its no more a [UNK] but [UNK] of [UNK]                                                                                                                                                                                                                                                                                                                                                                                                                                                                                                                                                                                                                                                                                                                                                               \n",
            "\n",
            "Original:  b\"This was so lame that I turned the DVD off...maybe halfway through. It was so weak, I couldn't even pay full enough attention to tell you how far in I made it.Though I really wanted to believe that the depiction of the young Carlito would be somewhat different, I just couldn't buy it. I don't really blame the actors, because I think it was the script that may have fallen flat. I did find myself laughing a few times, but I don't think those lines were intended to be funny.<br /><br />It's only saving grace is that I bought it in a 2 DVD set and I would have paid the price I did for the original alone. This is one of those cases when they should have let the classic stand alone.\"\n",
            "Round-trip:  this was so lame that i turned the dvd [UNK] [UNK] through it was so weak i couldnt even pay full enough attention to tell you how far in i made [UNK] i really wanted to believe that the [UNK] of the young [UNK] would be somewhat different i just couldnt buy it i dont really [UNK] the actors because i think it was the script that may have [UNK] [UNK] i did find myself [UNK] a few times but i dont think those lines were [UNK] to be [UNK] br its only [UNK] [UNK] is that i [UNK] it in a 2 dvd set and i would have [UNK] the [UNK] i did for the original alone this is one of those [UNK] when they should have let the classic stand alone                                                                                                                                                                                                                                                                                                                                                                                                                                                                                                                                                                                                                                                                                                                                                                                                                                                                                    \n",
            "\n",
            "Original:  b'Never saw the original movie in the series...I only hope it was a much better movie than this or the sequel made in the 1980\\'s as if it is not how were these two terrible sequels even justified. This movie had a really good lead in when they were advertising it to be shown on one of those old independent stations that are a thing of the past now. Anyways it looked like it would be a pretty good scary movie. It was, however, a movie that would make some Walt Disney movies look dark. Really, this movie was just a bunch of light fluff with virtually no boggy creek creature to be seen. The only real sighting is near the end when you see its shape during a very heavy rainstorm, other than that there is virtually no sign of the creature which was really disappointing as a kid. The story is basically the old evil hunters must kill anything they see and are after the boggy creek creature and kids are out to help it or just some random hairy guy in the woods that likes to pull random boats through the water. Not really worth watching I would however like to see the original, granted the maker of that would make the also bad boggy creature of the 80\\'s, but he also made a very good slasher movie in the 70\\'s \"The Town the Dreaded Sundown\".'\n",
            "Round-trip:  never saw the original movie in the [UNK] only hope it was a much better movie than this or the sequel made in the [UNK] as if it is not how were these two terrible [UNK] even [UNK] this movie had a really good lead in when they were [UNK] it to be shown on one of those old [UNK] [UNK] that are a thing of the past now [UNK] it looked like it would be a pretty good scary movie it was however a movie that would make some [UNK] disney movies look dark really this movie was just a bunch of light [UNK] with [UNK] no [UNK] [UNK] [UNK] to be seen the only real [UNK] is near the end when you see its [UNK] during a very [UNK] [UNK] other than that there is [UNK] no [UNK] of the [UNK] which was really [UNK] as a kid the story is basically the old evil [UNK] must kill anything they see and are after the [UNK] [UNK] [UNK] and kids are out to help it or just some [UNK] [UNK] guy in the [UNK] that [UNK] to [UNK] [UNK] [UNK] through the [UNK] not really worth watching i would however like to see the original [UNK] the [UNK] of that would make the also bad [UNK] [UNK] of the 80s but he also made a very good [UNK] movie in the 70s the town the [UNK] [UNK]                                                                                                                                                                                                                                                                                                                                                                                                                                                                                                                                                                                                                                                                                                                                                                          \n",
            "\n"
          ]
        }
      ]
    },
    {
      "cell_type": "markdown",
      "source": [
        "**B. Create the model**\n",
        "\n",
        "![image](https://www.tensorflow.org/static/text/tutorials/images/bidirectional.png)"
      ],
      "metadata": {
        "id": "1cZY2HAfWo60"
      }
    },
    {
      "cell_type": "markdown",
      "source": [
        "Above is a diagram of the model.\n",
        "\n",
        "1. This model can be build as a `tf.keras.Sequential`.\n",
        "\n",
        "2. The first layer is the `encoder`, which converts the text to a sequence of token indices.\n",
        "\n",
        "3. After the encoder is an embedding layer. An embedding layer stores one vector per word. When called, it converts the sequences of word indices to sequences of vectors. These vectors are trainable. After training (on enough data), words with similar meanings often have similar vectors.\n",
        "\n",
        "  This index-lookup is much more efficient than the equivalent operation of passing a one-hot encoded vector through a `tf.keras.layers.Dense` layer.\n",
        "\n",
        "4. A recurrent neural network (RNN) processes sequence input by iterating through the elements. RNNs pass the outputs from one timestep to their input on the next timestep.\n",
        "\n",
        "  The `tf.keras.layers.Bidirectional` wrapper can also be used with an RNN layer. This propagates the input forward and backwards through the RNN layer and then concatenates the final output.\n",
        "\n",
        "  * The main advantage of a bidirectional RNN is that the signal from the beginning of the input doesn't need to be processed all the way through every timestep to affect the output.  \n",
        "\n",
        "  * The main disadvantage of a bidirectional RNN is that you can't efficiently stream predictions as words are being added to the end.\n",
        "\n",
        "5. After the RNN has converted the sequence to a single vector the two `layers.Dense` do some final processing, and convert from this vector representation to a single logit as the classification output."
      ],
      "metadata": {
        "id": "GaiYnNA8W5Q0"
      }
    },
    {
      "cell_type": "markdown",
      "source": [
        "The code to implement this is below:"
      ],
      "metadata": {
        "id": "ARfWXvyuW7Lm"
      }
    },
    {
      "cell_type": "code",
      "source": [
        "# Build the model\n",
        "model = tf.keras.Sequential([\n",
        "    encoder,\n",
        "    tf.keras.layers.Embedding(\n",
        "        input_dim=len(encoder.get_vocabulary()),\n",
        "        output_dim=64,\n",
        "        # Use masking to handle the variable sequence lengths\n",
        "        mask_zero=True),\n",
        "    tf.keras.layers.Bidirectional(tf.keras.layers.LSTM(64)),\n",
        "    tf.keras.layers.Dense(64, activation='relu'),\n",
        "    tf.keras.layers.Dense(1)\n",
        "])"
      ],
      "metadata": {
        "id": "c41bkuP-W8an"
      },
      "execution_count": null,
      "outputs": []
    },
    {
      "cell_type": "markdown",
      "source": [
        "**FYI: Masking and Padding**\n",
        "* **Masking** is a way to tell sequence-processing layers that certain timesteps in an input are missing, and thus should be skipped when processing the data.\n",
        "* **Padding** is a special form of masking where the masked steps are at the start or the end of a sequence. Padding comes from the need to encode sequence data into contiguous batches: in order to make all sequences in a batch fit a given standard length, it is necessary to pad or truncate some sequences."
      ],
      "metadata": {
        "id": "9o0gf-4uaQkc"
      }
    },
    {
      "cell_type": "markdown",
      "source": [
        "**Example of Padding Sequence Data with Tokenized Texts**\n",
        "\n",
        "```\n",
        "[\n",
        "  [\"Hello\", \"world\", \"!\"],\n",
        "  [\"How\", \"are\", \"you\", \"doing\", \"today\"],\n",
        "  [\"The\", \"weather\", \"will\", \"be\", \"nice\", \"tomorrow\"],\n",
        "]\n",
        "```\n",
        "\n",
        "After vocabulary lookup, the data might be vectorized as integers like:\n",
        "\n",
        "```\n",
        "[\n",
        "  [71, 1331, 4231]\n",
        "  [73, 8, 3215, 55, 927],\n",
        "  [83, 91, 1, 645, 1253, 927],\n",
        "]\n",
        "```\n",
        "\n",
        "The data is a nested list where individual samples have length 3, 5, and 6, respectively. Since the input data for a deep learning model must be a single tensor (of shape e.g., `(batch_size, 6, vocab_size)` in this case), samples that are shorter than the longest item need to be padded with some placeholder value (alternatively, one might also truncate long samples before padding short samples).\n",
        "\n",
        "Keras provides a utility function to truncate and pad Python lists to a common length: `tf.keras.preprocessing.sequence.pad_sequences`. By using this function, you may convert raw vectors into the following padded outcomes:\n",
        "\n",
        "```\n",
        "[[ 711  632   71    0    0    0]\n",
        " [  73    8 3215   55  927    0]\n",
        " [  83   91    1  645 1253  927]]\n",
        "```"
      ],
      "metadata": {
        "id": "3juMzBTjcHmX"
      }
    },
    {
      "cell_type": "markdown",
      "source": [
        "The embedding layer uses masking to handle the varying sequence-lengths. All the layers after the embedding support masking."
      ],
      "metadata": {
        "id": "pCRi4WfVcC6u"
      }
    },
    {
      "cell_type": "code",
      "source": [
        "# Check if each layer supports masking\n",
        "print([layer.supports_masking for layer in model.layers])"
      ],
      "metadata": {
        "colab": {
          "base_uri": "https://localhost:8080/"
        },
        "id": "UomJuCSlayHu",
        "outputId": "07c44c64-e902-487f-a734-dcee5cfeb669"
      },
      "execution_count": null,
      "outputs": [
        {
          "output_type": "stream",
          "name": "stdout",
          "text": [
            "[False, True, True, True, True]\n"
          ]
        }
      ]
    },
    {
      "cell_type": "markdown",
      "source": [
        "**C. Train the model**"
      ],
      "metadata": {
        "id": "DHlmC5n-dtpS"
      }
    },
    {
      "cell_type": "code",
      "source": [
        "# Compile the model\n",
        "model.compile(loss=tf.keras.losses.BinaryCrossentropy(from_logits=True),\n",
        "              optimizer=tf.keras.optimizers.Adam(1e-4),\n",
        "              metrics=['accuracy'])"
      ],
      "metadata": {
        "id": "zWCYoHVzetHZ"
      },
      "execution_count": null,
      "outputs": []
    },
    {
      "cell_type": "code",
      "source": [
        "# Train the RNN model\n",
        "history = model.fit(train_dataset, epochs=3,\n",
        "                    validation_data=test_dataset,\n",
        "                    validation_steps=30)"
      ],
      "metadata": {
        "colab": {
          "base_uri": "https://localhost:8080/"
        },
        "id": "uca-V42Ld6we",
        "outputId": "9f25a8f9-dfe8-40b1-c191-0a03cf9c82f7"
      },
      "execution_count": null,
      "outputs": [
        {
          "output_type": "stream",
          "name": "stdout",
          "text": [
            "Epoch 1/3\n",
            "\u001b[1m391/391\u001b[0m \u001b[32m━━━━━━━━━━━━━━━━━━━━\u001b[0m\u001b[37m\u001b[0m \u001b[1m683s\u001b[0m 2s/step - accuracy: 0.5131 - loss: 0.6826 - val_accuracy: 0.6807 - val_loss: 0.4854\n",
            "Epoch 2/3\n",
            "\u001b[1m391/391\u001b[0m \u001b[32m━━━━━━━━━━━━━━━━━━━━\u001b[0m\u001b[37m\u001b[0m \u001b[1m675s\u001b[0m 2s/step - accuracy: 0.8042 - loss: 0.4190 - val_accuracy: 0.8401 - val_loss: 0.3688\n",
            "Epoch 3/3\n",
            "\u001b[1m391/391\u001b[0m \u001b[32m━━━━━━━━━━━━━━━━━━━━\u001b[0m\u001b[37m\u001b[0m \u001b[1m675s\u001b[0m 2s/step - accuracy: 0.8425 - loss: 0.3648 - val_accuracy: 0.8526 - val_loss: 0.3429\n"
          ]
        }
      ]
    },
    {
      "cell_type": "code",
      "source": [
        "# Assess the model statistics\n",
        "test_loss, test_acc = model.evaluate(test_dataset)\n",
        "\n",
        "print('Test Loss:', test_loss)\n",
        "print('Test Accuracy:', test_acc)"
      ],
      "metadata": {
        "colab": {
          "base_uri": "https://localhost:8080/"
        },
        "id": "AczrccETd_ql",
        "outputId": "c351bf1f-22ad-4517-ba6b-b3b119702b2b"
      },
      "execution_count": null,
      "outputs": [
        {
          "output_type": "stream",
          "name": "stdout",
          "text": [
            "\u001b[1m391/391\u001b[0m \u001b[32m━━━━━━━━━━━━━━━━━━━━\u001b[0m\u001b[37m\u001b[0m \u001b[1m149s\u001b[0m 380ms/step - accuracy: 0.8552 - loss: 0.3383\n",
            "Test Loss: 0.33692803978919983\n",
            "Test Accuracy: 0.855679988861084\n"
          ]
        }
      ]
    },
    {
      "cell_type": "code",
      "source": [
        "# Visualize the history of loss and accuracy by epoch\n",
        "plt.figure(figsize=(16, 8))\n",
        "plt.subplot(1, 2, 1)\n",
        "plot_graphs(history, 'loss')\n",
        "plt.ylim(None, 1)\n",
        "plt.subplot(1, 2, 2)\n",
        "plot_graphs(history, 'accuracy')\n",
        "plt.ylim(0, None)"
      ],
      "metadata": {
        "colab": {
          "base_uri": "https://localhost:8080/",
          "height": 718
        },
        "id": "rpJjJOxHeKLz",
        "outputId": "b5c5b14b-dd23-4b5f-ca66-66fae624c7b7"
      },
      "execution_count": null,
      "outputs": [
        {
          "output_type": "execute_result",
          "data": {
            "text/plain": [
              "(0.0, 0.8667283594608307)"
            ]
          },
          "metadata": {},
          "execution_count": 21
        },
        {
          "output_type": "display_data",
          "data": {
            "text/plain": [
              "<Figure size 1600x800 with 2 Axes>"
            ],
            "image/png": "[encoded data removed]"
          },
          "metadata": {}
        }
      ]
    },
    {
      "cell_type": "markdown",
      "source": [
        "Run a prediction on a new sentence:\n",
        "\n",
        "If the prediction is $\\ge 0.0$, it is positive else it is negative."
      ],
      "metadata": {
        "id": "3ynLsc9ueZz4"
      }
    },
    {
      "cell_type": "code",
      "source": [
        "# Predict on a new sample sentence (this code worked last year but not anymore)\n",
        "sample_text = ('The movie was cool. The animation and the graphics were out of this world. I would recommend this movie.')\n",
        "predictions = model.predict(np.array([sample_text]))"
      ],
      "metadata": {
        "colab": {
          "base_uri": "https://localhost:8080/",
          "height": 321
        },
        "id": "SsTnWqILMoQl",
        "outputId": "f4c961ad-8d38-4750-d090-fccf872a4995"
      },
      "execution_count": null,
      "outputs": [
        {
          "output_type": "error",
          "ename": "ValueError",
          "evalue": "Invalid dtype: str3328",
          "traceback": [
            "\u001b[0;31m---------------------------------------------------------------------------\u001b[0m",
            "\u001b[0;31mValueError\u001b[0m                                Traceback (most recent call last)",
            "\u001b[0;32m<ipython-input-25-030090807621>\u001b[0m in \u001b[0;36m<cell line: 0>\u001b[0;34m()\u001b[0m\n\u001b[1;32m      1\u001b[0m \u001b[0;31m# Predict on a new sample sentence\u001b[0m\u001b[0;34m\u001b[0m\u001b[0;34m\u001b[0m\u001b[0m\n\u001b[1;32m      2\u001b[0m \u001b[0msample_text\u001b[0m \u001b[0;34m=\u001b[0m \u001b[0;34m(\u001b[0m\u001b[0;34m'The movie was cool. The animation and the graphics were out of this world. I would recommend this movie.'\u001b[0m\u001b[0;34m)\u001b[0m\u001b[0;34m\u001b[0m\u001b[0;34m\u001b[0m\u001b[0m\n\u001b[0;32m----> 3\u001b[0;31m \u001b[0mpredictions\u001b[0m \u001b[0;34m=\u001b[0m \u001b[0mmodel\u001b[0m\u001b[0;34m.\u001b[0m\u001b[0mpredict\u001b[0m\u001b[0;34m(\u001b[0m\u001b[0mnp\u001b[0m\u001b[0;34m.\u001b[0m\u001b[0marray\u001b[0m\u001b[0;34m(\u001b[0m\u001b[0;34m[\u001b[0m\u001b[0msample_text\u001b[0m\u001b[0;34m]\u001b[0m\u001b[0;34m)\u001b[0m\u001b[0;34m)\u001b[0m\u001b[0;34m\u001b[0m\u001b[0;34m\u001b[0m\u001b[0m\n\u001b[0m",
            "\u001b[0;32m/usr/local/lib/python3.11/dist-packages/keras/src/utils/traceback_utils.py\u001b[0m in \u001b[0;36merror_handler\u001b[0;34m(*args, **kwargs)\u001b[0m\n\u001b[1;32m    120\u001b[0m             \u001b[0;31m# To get the full stack trace, call:\u001b[0m\u001b[0;34m\u001b[0m\u001b[0;34m\u001b[0m\u001b[0m\n\u001b[1;32m    121\u001b[0m             \u001b[0;31m# `keras.config.disable_traceback_filtering()`\u001b[0m\u001b[0;34m\u001b[0m\u001b[0;34m\u001b[0m\u001b[0m\n\u001b[0;32m--> 122\u001b[0;31m             \u001b[0;32mraise\u001b[0m \u001b[0me\u001b[0m\u001b[0;34m.\u001b[0m\u001b[0mwith_traceback\u001b[0m\u001b[0;34m(\u001b[0m\u001b[0mfiltered_tb\u001b[0m\u001b[0;34m)\u001b[0m \u001b[0;32mfrom\u001b[0m \u001b[0;32mNone\u001b[0m\u001b[0;34m\u001b[0m\u001b[0;34m\u001b[0m\u001b[0m\n\u001b[0m\u001b[1;32m    123\u001b[0m         \u001b[0;32mfinally\u001b[0m\u001b[0;34m:\u001b[0m\u001b[0;34m\u001b[0m\u001b[0;34m\u001b[0m\u001b[0m\n\u001b[1;32m    124\u001b[0m             \u001b[0;32mdel\u001b[0m \u001b[0mfiltered_tb\u001b[0m\u001b[0;34m\u001b[0m\u001b[0;34m\u001b[0m\u001b[0m\n",
            "\u001b[0;32m/usr/local/lib/python3.11/dist-packages/optree/ops.py\u001b[0m in \u001b[0;36mtree_map\u001b[0;34m(func, tree, is_leaf, none_is_leaf, namespace, *rests)\u001b[0m\n\u001b[1;32m    764\u001b[0m     \u001b[0mleaves\u001b[0m\u001b[0;34m,\u001b[0m \u001b[0mtreespec\u001b[0m \u001b[0;34m=\u001b[0m \u001b[0m_C\u001b[0m\u001b[0;34m.\u001b[0m\u001b[0mflatten\u001b[0m\u001b[0;34m(\u001b[0m\u001b[0mtree\u001b[0m\u001b[0;34m,\u001b[0m \u001b[0mis_leaf\u001b[0m\u001b[0;34m,\u001b[0m \u001b[0mnone_is_leaf\u001b[0m\u001b[0;34m,\u001b[0m \u001b[0mnamespace\u001b[0m\u001b[0;34m)\u001b[0m\u001b[0;34m\u001b[0m\u001b[0;34m\u001b[0m\u001b[0m\n\u001b[1;32m    765\u001b[0m     \u001b[0mflat_args\u001b[0m \u001b[0;34m=\u001b[0m \u001b[0;34m[\u001b[0m\u001b[0mleaves\u001b[0m\u001b[0;34m]\u001b[0m \u001b[0;34m+\u001b[0m \u001b[0;34m[\u001b[0m\u001b[0mtreespec\u001b[0m\u001b[0;34m.\u001b[0m\u001b[0mflatten_up_to\u001b[0m\u001b[0;34m(\u001b[0m\u001b[0mr\u001b[0m\u001b[0;34m)\u001b[0m \u001b[0;32mfor\u001b[0m \u001b[0mr\u001b[0m \u001b[0;32min\u001b[0m \u001b[0mrests\u001b[0m\u001b[0;34m]\u001b[0m\u001b[0;34m\u001b[0m\u001b[0;34m\u001b[0m\u001b[0m\n\u001b[0;32m--> 766\u001b[0;31m     \u001b[0;32mreturn\u001b[0m \u001b[0mtreespec\u001b[0m\u001b[0;34m.\u001b[0m\u001b[0munflatten\u001b[0m\u001b[0;34m(\u001b[0m\u001b[0mmap\u001b[0m\u001b[0;34m(\u001b[0m\u001b[0mfunc\u001b[0m\u001b[0;34m,\u001b[0m \u001b[0;34m*\u001b[0m\u001b[0mflat_args\u001b[0m\u001b[0;34m)\u001b[0m\u001b[0;34m)\u001b[0m\u001b[0;34m\u001b[0m\u001b[0;34m\u001b[0m\u001b[0m\n\u001b[0m\u001b[1;32m    767\u001b[0m \u001b[0;34m\u001b[0m\u001b[0m\n\u001b[1;32m    768\u001b[0m \u001b[0;34m\u001b[0m\u001b[0m\n",
            "\u001b[0;31mValueError\u001b[0m: Invalid dtype: str3328"
          ]
        }
      ]
    },
    {
      "cell_type": "code",
      "source": [
        "# Predict on a new sample sentence\n",
        "sample_text = ('The movie was cool. The animation and the graphics were out of this world. I would recommend this movie.')\n",
        "# Convert the sample text to a tf.Tensor before prediction\n",
        "input_text = tf.constant([sample_text])\n",
        "predictions = model.predict(input_text)"
      ],
      "metadata": {
        "colab": {
          "base_uri": "https://localhost:8080/"
        },
        "id": "D1_WKetrM6kn",
        "outputId": "7ed9f724-14b2-4bcb-b94e-e950a7ad2630"
      },
      "execution_count": null,
      "outputs": [
        {
          "output_type": "stream",
          "name": "stdout",
          "text": [
            "\u001b[1m1/1\u001b[0m \u001b[32m━━━━━━━━━━━━━━━━━━━━\u001b[0m\u001b[37m\u001b[0m \u001b[1m27s\u001b[0m 27s/step\n"
          ]
        }
      ]
    },
    {
      "cell_type": "code",
      "source": [
        "predictions"
      ],
      "metadata": {
        "colab": {
          "base_uri": "https://localhost:8080/"
        },
        "id": "dmSKGGJeNJcX",
        "outputId": "6a25c2e4-3418-405b-cf24-b72c31aefc28"
      },
      "execution_count": null,
      "outputs": [
        {
          "output_type": "execute_result",
          "data": {
            "text/plain": [
              "array([[0.71263367]], dtype=float32)"
            ]
          },
          "metadata": {},
          "execution_count": 27
        }
      ]
    },
    {
      "cell_type": "markdown",
      "source": [
        "**D. Build and train the model by staking two or more LSTM layers**"
      ],
      "metadata": {
        "id": "o-AGTk94fPUz"
      }
    },
    {
      "cell_type": "markdown",
      "source": [
        "Keras recurrent layers have two available modes that are controlled by the `return_sequences` constructor argument:\n",
        "\n",
        "* If `False` it returns only the last output for each input sequence (a 2D tensor of shape (`batch_size, output_features`)). This is the default, used in the previous model.\n",
        "\n",
        "* If `True` the full sequences of successive outputs for each timestep is returned (a 3D tensor of shape `(batch_size, timesteps, output_features)`).\n",
        "\n",
        "Here is what the flow of information looks like with `return_sequences=True`:\n",
        "\n",
        "![image](https://www.tensorflow.org/static/text/tutorials/images/layered_bidirectional.png)"
      ],
      "metadata": {
        "id": "TtwNO-YLffT4"
      }
    },
    {
      "cell_type": "markdown",
      "source": [
        "The interesting thing about using an RNN with `return_sequences=True` is that the output still has 3-axes, like the input, so it can be passed to another RNN layer, like this:"
      ],
      "metadata": {
        "id": "00OT1Zy8fo5P"
      }
    },
    {
      "cell_type": "code",
      "source": [
        "# Define the RNN architecture\n",
        "model = tf.keras.Sequential([\n",
        "    encoder,\n",
        "    tf.keras.layers.Embedding(len(encoder.get_vocabulary()), 64, mask_zero=True),\n",
        "    tf.keras.layers.Bidirectional(tf.keras.layers.LSTM(64, return_sequences=True)),\n",
        "    tf.keras.layers.Bidirectional(tf.keras.layers.LSTM(32)),\n",
        "    tf.keras.layers.Dense(64, activation='relu'),\n",
        "    tf.keras.layers.Dropout(0.5),\n",
        "    tf.keras.layers.Dense(1)\n",
        "])"
      ],
      "metadata": {
        "id": "4q3JIkDkfpW_"
      },
      "execution_count": null,
      "outputs": []
    },
    {
      "cell_type": "code",
      "source": [
        "# Compile the model\n",
        "model.compile(loss=tf.keras.losses.BinaryCrossentropy(from_logits=True),\n",
        "              optimizer=tf.keras.optimizers.Adam(1e-4),\n",
        "              metrics=['accuracy'])"
      ],
      "metadata": {
        "id": "3NUljCFJgKoy"
      },
      "execution_count": null,
      "outputs": []
    },
    {
      "cell_type": "code",
      "source": [
        "# Train the model (only 1 epoch for the time being)\n",
        "history = model.fit(train_dataset, epochs=1, # Increase epochs if you want\n",
        "                    validation_data=test_dataset,\n",
        "                    validation_steps=30)"
      ],
      "metadata": {
        "colab": {
          "base_uri": "https://localhost:8080/"
        },
        "id": "NI5SMvNygOMZ",
        "outputId": "16e844d6-6ce8-41df-b9e6-ebd832844a01"
      },
      "execution_count": null,
      "outputs": [
        {
          "output_type": "stream",
          "name": "stdout",
          "text": [
            "\u001b[1m391/391\u001b[0m \u001b[32m━━━━━━━━━━━━━━━━━━━━\u001b[0m\u001b[37m\u001b[0m \u001b[1m1282s\u001b[0m 3s/step - accuracy: 0.5234 - loss: 0.6793 - val_accuracy: 0.7479 - val_loss: 0.5279\n"
          ]
        }
      ]
    },
    {
      "cell_type": "code",
      "source": [
        "# Evaluate the model\n",
        "test_loss, test_acc = model.evaluate(test_dataset)\n",
        "\n",
        "print('Test Loss:', test_loss)\n",
        "print('Test Accuracy:', test_acc)"
      ],
      "metadata": {
        "colab": {
          "base_uri": "https://localhost:8080/"
        },
        "id": "oEKHwRQVgQLo",
        "outputId": "e4b3986e-a2d3-40d8-dd91-4c716c1559ab"
      },
      "execution_count": null,
      "outputs": [
        {
          "output_type": "stream",
          "name": "stdout",
          "text": [
            "\u001b[1m391/391\u001b[0m \u001b[32m━━━━━━━━━━━━━━━━━━━━\u001b[0m\u001b[37m\u001b[0m \u001b[1m255s\u001b[0m 653ms/step - accuracy: 0.7449 - loss: 0.5207\n",
            "Test Loss: 0.5185953974723816\n",
            "Test Accuracy: 0.7450399994850159\n"
          ]
        }
      ]
    },
    {
      "cell_type": "code",
      "source": [
        "# Visualize the results (run if you ran the model 'history' with 3 epochs)\n",
        "plt.figure(figsize=(16, 6))\n",
        "plt.subplot(1, 2, 1)\n",
        "plot_graphs(history, 'loss')\n",
        "plt.subplot(1, 2, 2)\n",
        "plot_graphs(history, 'accuracy')"
      ],
      "metadata": {
        "id": "QyBLTmgRgTu3"
      },
      "execution_count": null,
      "outputs": []
    },
    {
      "cell_type": "code",
      "source": [],
      "metadata": {
        "id": "HgIGUE_Hi0ET"
      },
      "execution_count": null,
      "outputs": []
    }
  ]
}