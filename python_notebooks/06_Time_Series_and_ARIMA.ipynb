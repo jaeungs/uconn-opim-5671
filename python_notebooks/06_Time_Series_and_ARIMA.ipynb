{
  "nbformat": 4,
  "nbformat_minor": 0,
  "metadata": {
    "colab": {
      "provenance": []
    },
    "kernelspec": {
      "name": "python3",
      "display_name": "Python 3"
    },
    "language_info": {
      "name": "python"
    }
  },
  "cells": [
    {
      "cell_type": "markdown",
      "source": [
        "## **#06. Time Series and ARIMA Models**\n",
        "- Instructor: [Jaeung Sim](https://jaeungs.github.io/) (University of Connecticut)\n",
        "- Course: OPIM 5671 Data Mining and Time Series Forecasting\n",
        "- Last updated: October 14, 2025"
      ],
      "metadata": {
        "id": "1U3N8vs9Ubo3"
      }
    },
    {
      "cell_type": "markdown",
      "source": [
        "**Objectives**\n",
        "- Implement and assess ARIMA models for times series forecasting."
      ],
      "metadata": {
        "id": "_kHM_-H9VGa6"
      }
    },
    {
      "cell_type": "markdown",
      "source": [
        "### **Part 1: Colab Environment**"
      ],
      "metadata": {
        "id": "GLbt60FDVQLu"
      }
    },
    {
      "cell_type": "code",
      "execution_count": null,
      "metadata": {
        "id": "u3jnNDIIUZOO"
      },
      "outputs": [],
      "source": [
        "# Import Google Drive to Colab\n",
        "from google.colab import drive\n",
        "drive.mount('/content/drive')"
      ]
    },
    {
      "cell_type": "code",
      "source": [
        "# Check your current directory\n",
        "import os\n",
        "os.getcwd()"
      ],
      "metadata": {
        "id": "u5yeqJZ_VWLl"
      },
      "execution_count": null,
      "outputs": []
    },
    {
      "cell_type": "code",
      "source": [
        "# Set your working directory\n",
        "os.chdir('/content/drive/My Drive/Colab Notebooks/OPIM 5671 (Fall 2025)') # Change the directory to your own"
      ],
      "metadata": {
        "id": "I-znfaTQVXV8"
      },
      "execution_count": null,
      "outputs": []
    },
    {
      "cell_type": "markdown",
      "source": [
        "### **Part 2: Data Exploration**"
      ],
      "metadata": {
        "id": "fIMS8ijOViz6"
      }
    },
    {
      "cell_type": "code",
      "source": [
        "import pandas as pd\n",
        "\n",
        "# Load the dataset\n",
        "df = pd.read_csv(\"dataset_06_Apple_weekly_price.csv\")\n",
        "\n",
        "# Parse the 'Date' column as datetime and sort\n",
        "df['Date'] = pd.to_datetime(df['Date'])\n",
        "df = df.sort_values('Date')"
      ],
      "metadata": {
        "id": "x8p_8OjYW8q5"
      },
      "execution_count": null,
      "outputs": []
    },
    {
      "cell_type": "code",
      "source": [
        "# Explore the data structure\n",
        "df.head()"
      ],
      "metadata": {
        "id": "yLth72x-XDGe"
      },
      "execution_count": null,
      "outputs": []
    },
    {
      "cell_type": "code",
      "source": [
        "# Remove commas from 'Volume' and convert to numeric\n",
        "df['Volume'] = df['Volume'].str.replace(',', '').astype(int)\n",
        "\n",
        "# Explore the updated structure\n",
        "df.head()"
      ],
      "metadata": {
        "id": "rF6yT5TaXCRN"
      },
      "execution_count": null,
      "outputs": []
    },
    {
      "cell_type": "code",
      "source": [
        "import matplotlib.pyplot as plt\n",
        "\n",
        "# Plot 'Close' price trend\n",
        "plt.figure(figsize=(12, 5))\n",
        "plt.plot(df['Date'], df['Close'], label='Close Price', color='blue')\n",
        "plt.title('Apple Weekly Close Price')\n",
        "plt.xlabel('Date')\n",
        "plt.ylabel('Close Price')\n",
        "plt.grid(True)\n",
        "plt.legend()\n",
        "plt.show()\n",
        "\n",
        "# Plot 'Volume' trend\n",
        "plt.figure(figsize=(12, 5))\n",
        "plt.plot(df['Date'], df['Volume'], label='Volume', color='green')\n",
        "plt.title('Apple Weekly Trading Volume')\n",
        "plt.xlabel('Date')\n",
        "plt.ylabel('Volume')\n",
        "plt.grid(True)\n",
        "plt.legend()\n",
        "plt.show()"
      ],
      "metadata": {
        "id": "mDfBubPjW-GY"
      },
      "execution_count": null,
      "outputs": []
    },
    {
      "cell_type": "markdown",
      "source": [
        "### **Part 3: ARIMA Model Estimation and Assessment**"
      ],
      "metadata": {
        "id": "9McCX67lXJAy"
      }
    },
    {
      "cell_type": "code",
      "source": [
        "from statsmodels.tsa.arima.model import ARIMA\n",
        "from sklearn.metrics import mean_squared_error\n",
        "from sklearn.metrics import mean_absolute_error\n",
        "import numpy as np"
      ],
      "metadata": {
        "id": "2zYnu5CrXx6k"
      },
      "execution_count": null,
      "outputs": []
    },
    {
      "cell_type": "code",
      "source": [
        "# Set 'Date' as index\n",
        "df_arima = df.set_index('Date')\n",
        "\n",
        "# Use only the 'Close' column\n",
        "ts = df_arima['Close']"
      ],
      "metadata": {
        "id": "pE_0tyN-X0A8"
      },
      "execution_count": null,
      "outputs": []
    },
    {
      "cell_type": "code",
      "source": [
        "df_arima.head()"
      ],
      "metadata": {
        "id": "y6c0l9zRcNTb"
      },
      "execution_count": null,
      "outputs": []
    },
    {
      "cell_type": "markdown",
      "source": [
        "Try ARIMA(1, 0, 0) model"
      ],
      "metadata": {
        "id": "3uRVDSkYbmP5"
      }
    },
    {
      "cell_type": "code",
      "source": [
        "# Fit ARIMA(p=1, d=0, q=0)\n",
        "model = ARIMA(ts, order=(1, 0, 0))\n",
        "model_fit = model.fit()\n",
        "\n",
        "# Summary of the model\n",
        "print(model_fit.summary())"
      ],
      "metadata": {
        "id": "zK2FLU-HXN8O"
      },
      "execution_count": null,
      "outputs": []
    },
    {
      "cell_type": "code",
      "source": [
        "# Predict in-sample to evaluate model performance\n",
        "y_pred = model_fit.predict(start=1, end=len(ts)-1, typ='levels')\n",
        "mse = mean_squared_error(ts[1:], y_pred)\n",
        "rmse = np.sqrt(mse)\n",
        "mae = mean_absolute_error(ts[1:], y_pred)\n",
        "\n",
        "print(f\"In-sample MSE: {mse:.4f}\")\n",
        "print(f\"In-sample RMSE: {rmse:.4f}\")\n",
        "print(f\"In-sample MAE:  {mae:.4f}\")"
      ],
      "metadata": {
        "id": "OqgXC-eXX4xj"
      },
      "execution_count": null,
      "outputs": []
    },
    {
      "cell_type": "code",
      "source": [
        "# Forecast the next 10 weeks\n",
        "forecast = model_fit.forecast(steps=10)\n",
        "print(\"\\nForecast for next 10 weeks:\\n\", forecast)"
      ],
      "metadata": {
        "id": "Ja0pSw_yX-id"
      },
      "execution_count": null,
      "outputs": []
    },
    {
      "cell_type": "markdown",
      "source": [
        "Try ARIMA(1, 1, 1) model"
      ],
      "metadata": {
        "id": "z6mFxrNpb7QW"
      }
    },
    {
      "cell_type": "code",
      "source": [
        "# Fit ARIMA(p=1, d=1, q=1)\n",
        "model = ARIMA(ts, order=(1, 1, 1))\n",
        "model_fit = model.fit()\n",
        "\n",
        "# Summary of the model\n",
        "print(model_fit.summary())\n",
        "\n",
        "# Predict in-sample to evaluate model performance\n",
        "y_pred = model_fit.predict(start=1, end=len(ts)-1, typ='levels')\n",
        "mse = mean_squared_error(ts[1:], y_pred)\n",
        "rmse = np.sqrt(mse)\n",
        "mae = mean_absolute_error(ts[1:], y_pred)\n",
        "\n",
        "print(f\"In-sample MSE: {mse:.4f}\")\n",
        "print(f\"In-sample RMSE: {rmse:.4f}\")\n",
        "print(f\"In-sample MAE:  {mae:.4f}\")"
      ],
      "metadata": {
        "id": "k_bY_Sgrbu6T"
      },
      "execution_count": null,
      "outputs": []
    },
    {
      "cell_type": "code",
      "source": [
        "# Forecast the next 10 weeks\n",
        "forecast = model_fit.forecast(steps=10)\n",
        "print(\"\\nForecast for next 10 weeks:\\n\", forecast)"
      ],
      "metadata": {
        "id": "EwmzhG3ub-6P"
      },
      "execution_count": null,
      "outputs": []
    }
  ]
}