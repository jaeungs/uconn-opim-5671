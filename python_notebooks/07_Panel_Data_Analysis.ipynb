{
  "nbformat": 4,
  "nbformat_minor": 0,
  "metadata": {
    "colab": {
      "provenance": []
    },
    "kernelspec": {
      "name": "python3",
      "display_name": "Python 3"
    },
    "language_info": {
      "name": "python"
    },
    "gpuClass": "standard"
  },
  "cells": [
    {
      "cell_type": "markdown",
      "source": [
        "## **#07. Panel Data Analysis**\n",
        "- Instructor: [Jaeung Sim](https://jaeungs.github.io/) (University of Connecticut)\n",
        "- Course: OPIM 5671 Data Mining and Time Series Forecasting\n",
        "- Last updated: April 15, 2025"
      ],
      "metadata": {
        "id": "GSYmE0DANNuf"
      }
    },
    {
      "cell_type": "markdown",
      "source": [
        "**Objectives**\n",
        "* Apply causal inference methods to real-world data.\n",
        "\n",
        "**References**\n",
        "* [Frontiers: Virus Shook the Streaming Star: Estimating the COVID-19 Impact on Music Consumption](https://pubsonline.informs.org/doi/abs/10.1287/mksc.2021.1321)"
      ],
      "metadata": {
        "id": "sbRuVRa4Dm0G"
      }
    },
    {
      "cell_type": "markdown",
      "source": [
        "##### **Part 0. Basic Setup**"
      ],
      "metadata": {
        "id": "3ex4txRfD4RB"
      }
    },
    {
      "cell_type": "code",
      "source": [
        "# Set your Google Drive directory\n",
        "import os\n",
        "os.getcwd()\n",
        "\n",
        "from google.colab import drive\n",
        "drive.mount('/content/drive')\n",
        "\n",
        "os.chdir('/content/drive/My Drive/Colab Notebooks/OPIM 5671 (Spring 2025)') # You may need to change this directory"
      ],
      "metadata": {
        "id": "83d4TiqeD7tl"
      },
      "execution_count": null,
      "outputs": []
    },
    {
      "cell_type": "code",
      "source": [
        "# Import basic data-processing and visualization libraries\n",
        "import numpy as np\n",
        "import pandas as pd\n",
        "import matplotlib.pyplot as plt\n",
        "import seaborn as sns"
      ],
      "metadata": {
        "id": "mg7NIAWTFFBm"
      },
      "execution_count": null,
      "outputs": []
    },
    {
      "cell_type": "markdown",
      "source": [
        "##### **Part 1. Exploratory Data Analysis**"
      ],
      "metadata": {
        "id": "D5ktnFTYD90T"
      }
    },
    {
      "cell_type": "markdown",
      "source": [
        "We are going to explore the real-world dataset used in the following paper:\n",
        "> Sim, J., Cho, D., Hwang, Y., & Telang, R. (2022). Frontiers: virus shook the streaming star: estimating the COVID-19 impact on music consumption. *Marketing Science*, 41(1), 19-32.\n",
        "\n",
        "**Basic Data Structure**\n",
        "* The paper used Spotify's weekly streaming data for the top 200 weekly music charts during 104 consecutive weeks between June 2018 and May 2020 across 60 countries.\n",
        "* They aggregated weekly streaming counts of the top 200 songs for each country and built the country-week level for 104 weeks of 60 countries, for a total of 6,240 observations.\n",
        "\n",
        "**Combined Datasets**\n",
        "* They combined music consumption data with COVID-19 case statistics from the European Centre for Disease Prevention and Control (ECDC).\n",
        "* They utilized data on enforced social distancing measures by the governments from the Oxford COVID-19 Government Response Tracker.\n",
        "* Also, they used country-day-level data on individuals' time allocation changes (for activities) since the COVID-19 outbreak from Google's COVID-19 Community Mobility Reports."
      ],
      "metadata": {
        "id": "goe2GEfxEd7O"
      }
    },
    {
      "cell_type": "markdown",
      "source": [
        "**1.1. Exploring Raw Data**"
      ],
      "metadata": {
        "id": "dWvzKxQMJNNy"
      }
    },
    {
      "cell_type": "code",
      "source": [
        "# Load a dataset from an MS Excel sheet\n",
        "df = pd.read_csv('dataset_07_covid_music.csv')\n",
        "df.head(10)"
      ],
      "metadata": {
        "id": "FJqk1vKzEbGN"
      },
      "execution_count": null,
      "outputs": []
    },
    {
      "cell_type": "code",
      "source": [
        "# Divide 41 columns into two parts (1 of 2)\n",
        "df[df.columns[0:20]].head(10)"
      ],
      "metadata": {
        "id": "LvKK_rarJKnx"
      },
      "execution_count": null,
      "outputs": []
    },
    {
      "cell_type": "code",
      "source": [
        "# Divide 41 columns into two parts (2 of 2)\n",
        "df[df.columns[21:41]].head(10)"
      ],
      "metadata": {
        "id": "chMDam8nJaiw"
      },
      "execution_count": null,
      "outputs": []
    },
    {
      "cell_type": "markdown",
      "source": [
        "**1.2. Exploring Summary Statistics**"
      ],
      "metadata": {
        "id": "H4O7O_bFJir2"
      }
    },
    {
      "cell_type": "code",
      "source": [
        "# Summary Statistics\n",
        "df.describe()"
      ],
      "metadata": {
        "id": "7lUwxsx1FfSR"
      },
      "execution_count": null,
      "outputs": []
    },
    {
      "cell_type": "code",
      "source": [
        "# Divide 41 columns into two parts (1 of 2)\n",
        "df[df.columns[0:20]].describe()"
      ],
      "metadata": {
        "id": "6JbdJvpvF7bI"
      },
      "execution_count": null,
      "outputs": []
    },
    {
      "cell_type": "code",
      "source": [
        "# Divide 41 columns into two parts (2 of 2)\n",
        "df[df.columns[21:41]].describe()"
      ],
      "metadata": {
        "id": "ygCpFcOvGb7Q"
      },
      "execution_count": null,
      "outputs": []
    },
    {
      "cell_type": "markdown",
      "source": [
        "**1.3. Visualization**"
      ],
      "metadata": {
        "id": "-f1O4oOcJ4sn"
      }
    },
    {
      "cell_type": "markdown",
      "source": [
        "Please refer to **Figure 2** in the paper."
      ],
      "metadata": {
        "id": "Gqvm20VyKSru"
      }
    },
    {
      "cell_type": "code",
      "source": [
        "# GroupBy at the (treated year x week of period) level\n",
        "streams_by_treated = df.groupby(['treated','week_of_period'])['num_streams'].sum()\n",
        "streams_by_treated = streams_by_treated.reset_index()\n",
        "streams_by_treated.head(10)"
      ],
      "metadata": {
        "id": "V3UbiUxrKG80"
      },
      "execution_count": null,
      "outputs": []
    },
    {
      "cell_type": "code",
      "source": [
        "# Filter the DataFrame for treated and untreated observations\n",
        "untreated = streams_by_treated[streams_by_treated['treated'] == 0]\n",
        "treated = streams_by_treated[streams_by_treated['treated'] == 1]\n",
        "\n",
        "# Specify x and y axis\n",
        "plt.plot(untreated['week_of_period'], untreated['num_streams'], label='Untreated', color='red')\n",
        "plt.plot(treated['week_of_period'], treated['num_streams'], label='Treated', color='blue')\n",
        "\n",
        "# Add labels and title\n",
        "plt.xlabel('Week of Period')\n",
        "plt.ylabel('Streams')\n",
        "plt.title('Weekly Streams by Group')\n",
        "plt.legend()\n",
        "\n",
        "# Show plot\n",
        "plt.show()"
      ],
      "metadata": {
        "id": "gv-e8TruLXye"
      },
      "execution_count": null,
      "outputs": []
    },
    {
      "cell_type": "code",
      "source": [
        "# Filter the DataFrame for treated and untreated observations\n",
        "untreated = streams_by_treated[streams_by_treated['treated'] == 0]\n",
        "treated = streams_by_treated[streams_by_treated['treated'] == 1]\n",
        "\n",
        "# Create the figure and the first axes (the left y-axis)\n",
        "fig, ax1 = plt.subplots()\n",
        "\n",
        "# Plot the first line\n",
        "ax1.plot(untreated['week_of_period'], untreated['num_streams'], color='blue', label='Untreated')\n",
        "ax1.set_xlabel('Time')\n",
        "ax1.set_ylabel('Streams (Untreated)', color='blue')\n",
        "ax1.tick_params(axis='y', labelcolor='blue')\n",
        "\n",
        "# Create the second axes (the right y-axis) based on the first\n",
        "ax2 = ax1.twinx()\n",
        "\n",
        "# Plot the second line\n",
        "ax2.plot(treated['week_of_period'], treated['num_streams'], color='red', label='Treated')\n",
        "ax2.set_ylabel('Streams (Treated)', color='red')\n",
        "ax2.tick_params(axis='y', labelcolor='red')\n",
        "\n",
        "# Add title\n",
        "plt.title('Weekly Streams by Group')\n",
        "\n",
        "# Show plot\n",
        "plt.show()\n"
      ],
      "metadata": {
        "id": "0iiL0YNzO3Yd"
      },
      "execution_count": null,
      "outputs": []
    },
    {
      "cell_type": "markdown",
      "source": [
        "Compare the results with **Figure 3** in the paper."
      ],
      "metadata": {
        "id": "Z5tSFFzgQqql"
      }
    },
    {
      "cell_type": "markdown",
      "source": [
        "##### **Part 2. Econometric Analysis**"
      ],
      "metadata": {
        "id": "cM84NRGoEBGp"
      }
    },
    {
      "cell_type": "markdown",
      "source": [
        "**2.1. Basic Difference-in-Differences with `PanelOLS` in `linearmodels`**\n"
      ],
      "metadata": {
        "id": "NTkrXV1L4XZI"
      }
    },
    {
      "cell_type": "code",
      "source": [
        "# Install `linearmodels` library\n",
        "!pip install linearmodels"
      ],
      "metadata": {
        "id": "vVLZBKVeR9N1"
      },
      "execution_count": null,
      "outputs": []
    },
    {
      "cell_type": "code",
      "source": [
        "# Import `linearmodels` library\n",
        "from linearmodels import PanelOLS"
      ],
      "metadata": {
        "id": "dSN1ZXvQEbb5"
      },
      "execution_count": null,
      "outputs": []
    },
    {
      "cell_type": "code",
      "source": [
        "# Setting a new index by combining 'country_index' and 'treated'\n",
        "df['new_id'] = df['country_index'] + '_' + df['treated'].astype(str)\n",
        "\n",
        "# Creating an interaction term 'treated_after' by multiplying 'treated' by 'after'\n",
        "df['treated_after'] = df['treated'] * df['after']"
      ],
      "metadata": {
        "id": "rlcXqtz5SUF2"
      },
      "execution_count": null,
      "outputs": []
    },
    {
      "cell_type": "code",
      "source": [
        "# Setting multi-index for panel data\n",
        "df['week_of_period_id'] = df['week_of_period']\n",
        "df = df.set_index(['new_id', 'week_of_period_id'])"
      ],
      "metadata": {
        "id": "dJtgphbPRaOI"
      },
      "execution_count": null,
      "outputs": []
    },
    {
      "cell_type": "markdown",
      "source": [
        "Basic functional form:\n",
        "\n",
        "$y_{ijt} = \\alpha_i + \\beta_1 \\cdot Treated_j + \\beta_2 \\cdot After_t + \\beta_3 \\cdot Treated_j \\cdot After_t + \\Sigma_t \\delta_t + \\varepsilon_{ijt}$\n",
        "\n",
        "Because we set each combination of country-year ($ij$) as an entity, the equation becomes as:\n",
        "\n",
        "$y_{ijt} = \\beta_1 \\cdot Treated_j + \\beta_2 \\cdot After_t + \\beta_3 \\cdot Treated_j \\cdot After_t + \\Sigma_i \\Sigma_j \\alpha_i \\cdot \\gamma_j + \\Sigma_t \\delta_t + \\varepsilon_{ijt}$"
      ],
      "metadata": {
        "id": "rjvEhKi_8GTj"
      }
    },
    {
      "cell_type": "code",
      "source": [
        "# Fitting the Panel regression model with two-way fixed effects\n",
        "mod = PanelOLS.from_formula('num_streams ~ treated + after + treated_after + EntityEffects + TimeEffects', data=df) # Don't automatically drop variables based on multicollinearity\n",
        "res = mod.fit(cov_type='clustered', cluster_entity=True) # Clustered residual errors\n",
        "\n",
        "# Printing the model's summary\n",
        "print(res)"
      ],
      "metadata": {
        "id": "AQpU5PQyS4y0"
      },
      "execution_count": null,
      "outputs": []
    },
    {
      "cell_type": "code",
      "source": [
        "# Fitting the Panel regression model with two-way fixed effects\n",
        "mod = PanelOLS.from_formula('num_streams ~ treated_after + EntityEffects + TimeEffects', data=df) # Dropping fully absorbed variables\n",
        "res = mod.fit(cov_type='clustered', cluster_entity=True) # Clustered residual errors\n",
        "\n",
        "# Printing the model's summary\n",
        "print(res)"
      ],
      "metadata": {
        "id": "4F2PaL5yT7YS"
      },
      "execution_count": null,
      "outputs": []
    },
    {
      "cell_type": "code",
      "source": [
        "# Fitting the Panel regression model with two-way fixed effects\n",
        "mod = PanelOLS.from_formula('ln_num_streams ~ treated_after + EntityEffects + TimeEffects', data=df) # Using a log-transformed dependent variable\n",
        "res = mod.fit(cov_type='clustered', cluster_entity=True) # Clustered residual errors\n",
        "\n",
        "# Printing the model's summary\n",
        "print(res)"
      ],
      "metadata": {
        "id": "xrMzDl1bUB7C"
      },
      "execution_count": null,
      "outputs": []
    },
    {
      "cell_type": "markdown",
      "source": [
        "**2.2. High-dimensional Fixed Effects with `pyhdfe` and `statsmodel.api`**\n"
      ],
      "metadata": {
        "id": "5mJhhMOZ5UMY"
      }
    },
    {
      "cell_type": "code",
      "source": [
        "# Necessary libraries\n",
        "import pyhdfe\n",
        "import statsmodels.api as sm"
      ],
      "metadata": {
        "id": "tMBmX_zq6Lta"
      },
      "execution_count": null,
      "outputs": []
    },
    {
      "cell_type": "markdown",
      "source": [
        "New functional form:\n",
        "\n",
        "$y_{ijt} = \\beta_1 \\cdot Treated_j + \\beta_2 \\cdot After_t + \\beta_3 \\cdot Treated_j \\cdot After_t + \\Sigma_i \\Sigma_j \\alpha_i \\cdot \\gamma_j + \\Sigma_j \\Sigma_t \\gamma_j \\cdot \\delta_t + \\Sigma_i \\Sigma_t \\alpha_i \\cdot \\delta_t +  \\varepsilon_{ijt}$\n",
        "\n",
        "Here, you should introduce three types of two-dimensional fixed effects"
      ],
      "metadata": {
        "id": "Zf7WdEBh9JAM"
      }
    },
    {
      "cell_type": "code",
      "source": [
        "# Define the regressors (not fixed effects)\n",
        "X = df[['treated_after']].values\n",
        "y = df[['ln_num_streams']].values"
      ],
      "metadata": {
        "id": "t-KA-eNm6bfd"
      },
      "execution_count": null,
      "outputs": []
    },
    {
      "cell_type": "code",
      "source": [
        "# Create `ij`, `jt` and `it` combinations\n",
        "df['ij_FE'] = df['country_index'] + '_' + df['treated'].astype(str)\n",
        "df['jt_FE'] = df['treated'].astype(str) + '_' + df['week_of_period'].astype(str)\n",
        "df['it_FE'] = df['country_index'] + '_' + df['week_of_period'].astype(str)"
      ],
      "metadata": {
        "id": "HHqJOWt67Py8"
      },
      "execution_count": null,
      "outputs": []
    },
    {
      "cell_type": "code",
      "source": [
        "# Create the fixed effects matrix\n",
        "fe_matrix = df[['ij_FE', 'jt_FE', 'it_FE']].values"
      ],
      "metadata": {
        "id": "nLdV6b4wDat3"
      },
      "execution_count": null,
      "outputs": []
    },
    {
      "cell_type": "code",
      "source": [
        "# Create HDFE object\n",
        "hdfe = pyhdfe.create(fe_matrix)"
      ],
      "metadata": {
        "id": "SrB3Fl0B-PMq"
      },
      "execution_count": null,
      "outputs": []
    },
    {
      "cell_type": "code",
      "source": [
        "print(X.shape)\n",
        "print(y.shape)\n",
        "print(fe_matrix.shape)"
      ],
      "metadata": {
        "id": "c1Kmj1y2D1cB"
      },
      "execution_count": null,
      "outputs": []
    },
    {
      "cell_type": "code",
      "source": [
        "# Absorb fixed effects (demean the variables)\n",
        "X_demeaned = hdfe.residualize(X)\n",
        "y_demeaned = hdfe.residualize(y)"
      ],
      "metadata": {
        "id": "wkZCOe_3-a2k"
      },
      "execution_count": null,
      "outputs": []
    },
    {
      "cell_type": "code",
      "source": [
        "# Fit OLS on demeaned data\n",
        "X_demeaned_constant = sm.add_constant(X_demeaned)\n",
        "model = sm.OLS(y_demeaned, X_demeaned_constant).fit()"
      ],
      "metadata": {
        "id": "Aro46SQ1-c5r"
      },
      "execution_count": null,
      "outputs": []
    },
    {
      "cell_type": "code",
      "source": [
        "# Show summary\n",
        "print(model.summary()) # Fully absorbed by fixed effects"
      ],
      "metadata": {
        "id": "XcmF7tF1-h-T"
      },
      "execution_count": null,
      "outputs": []
    },
    {
      "cell_type": "markdown",
      "source": [
        "It's time to incorporate COVID-19 statistics!\n",
        "\n",
        "$y_{ijt} = \\theta_1 \\cdot Cases_{ijt} + \\theta_2 \\cdot Deaths_{ijt} + \\Sigma_i \\Sigma_j \\alpha_i \\cdot \\gamma_j + \\Sigma_j \\Sigma_t \\gamma_j \\cdot \\delta_t + \\Sigma_i \\Sigma_t \\alpha_i \\cdot \\delta_t +  \\varepsilon_{ijt}$\n"
      ],
      "metadata": {
        "id": "pisuUDssFcvW"
      }
    },
    {
      "cell_type": "code",
      "source": [
        "X = df[['cases_per_million', 'deaths_per_million']].values"
      ],
      "metadata": {
        "id": "OccMMG5NILr_"
      },
      "execution_count": null,
      "outputs": []
    },
    {
      "cell_type": "code",
      "source": [
        "# Absorb fixed effects (demean the variables)\n",
        "X_demeaned = hdfe.residualize(X)\n",
        "y_demeaned = hdfe.residualize(y)"
      ],
      "metadata": {
        "id": "lJ_LJDU9Fw9W"
      },
      "execution_count": null,
      "outputs": []
    },
    {
      "cell_type": "code",
      "source": [
        "# Fit OLS on demeaned data\n",
        "X_demeaned_constant = sm.add_constant(X_demeaned)\n",
        "model = sm.OLS(y_demeaned, X_demeaned).fit()"
      ],
      "metadata": {
        "id": "O7Ug_eYnFyTA"
      },
      "execution_count": null,
      "outputs": []
    },
    {
      "cell_type": "code",
      "source": [
        "# Show summary\n",
        "print(model.summary()) # Fully absorbed by fixed effects"
      ],
      "metadata": {
        "id": "l-ImC_fCFygv"
      },
      "execution_count": null,
      "outputs": []
    },
    {
      "cell_type": "markdown",
      "source": [
        "End of Document"
      ],
      "metadata": {
        "id": "__zpILtiI-hm"
      }
    }
  ]
}